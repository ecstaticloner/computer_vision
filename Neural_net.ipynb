{
 "cells": [
  {
   "cell_type": "code",
   "execution_count": 2,
   "id": "010aab6d-1652-417b-91d5-10ade6402914",
   "metadata": {},
   "outputs": [],
   "source": [
    "import numpy as np\n",
    "import torch\n",
    "import torch.nn as nn\n",
    "import torch.optim as optim\n"
   ]
  },
  {
   "cell_type": "code",
   "execution_count": 3,
   "id": "21bcbf63-ef1e-4a83-8ad3-28ebba5f9d61",
   "metadata": {},
   "outputs": [],
   "source": [
    "\n",
    "dataset = np.loadtxt('pima-indians-diabetes.csv',delimiter=',')\n",
    "X = dataset[:,0:8] # takes data from 0-->7 th position.\n",
    "y = dataset[:,8]  # takes data @ 8 th position.\n"
   ]
  },
  {
   "cell_type": "code",
   "execution_count": 5,
   "id": "4be87629-c4ef-467c-bc9c-43530e7b8470",
   "metadata": {},
   "outputs": [
    {
     "name": "stderr",
     "output_type": "stream",
     "text": [
      "/tmp/ipykernel_183139/2963955817.py:1: UserWarning: To copy construct from a tensor, it is recommended to use sourceTensor.clone().detach() or sourceTensor.clone().detach().requires_grad_(True), rather than torch.tensor(sourceTensor).\n",
      "  X = torch.tensor(X,dtype=torch.float32)\n"
     ]
    }
   ],
   "source": [
    "X = torch.tensor(X,dtype=torch.float32) # converting to 32 bit floating type \n",
    "y = torch.tensor(y,dtype=torch.float32).reshape(-1,1) \n"
   ]
  },
  {
   "cell_type": "code",
   "execution_count": 8,
   "id": "bc763706-9e1b-4fc4-b7e8-9a40ca30b220",
   "metadata": {},
   "outputs": [],
   "source": [
    "model = nn.Sequential(\n",
    "    nn.Linear(8,12),\n",
    "    nn.ReLU(),\n",
    "    nn.Linear(12,8),\n",
    "    nn.ReLU(),\n",
    "    nn.Linear(8,1),\n",
    "    nn.Sigmoid()\n",
    ")\n"
   ]
  },
  {
   "cell_type": "code",
   "execution_count": 9,
   "id": "34e4dcc4-57e7-4cc1-8a51-2ecc53a08a89",
   "metadata": {},
   "outputs": [
    {
     "name": "stdout",
     "output_type": "stream",
     "text": [
      "Sequential(\n",
      "  (0): Linear(in_features=8, out_features=12, bias=True)\n",
      "  (1): ReLU()\n",
      "  (2): Linear(in_features=12, out_features=8, bias=True)\n",
      "  (3): ReLU()\n",
      "  (4): Linear(in_features=8, out_features=1, bias=True)\n",
      "  (5): Sigmoid()\n",
      ")\n"
     ]
    }
   ],
   "source": [
    "print(model)"
   ]
  },
  {
   "cell_type": "code",
   "execution_count": 10,
   "id": "4e51d6ec-92bc-4a61-bbd1-e9642a46a682",
   "metadata": {},
   "outputs": [],
   "source": [
    "loss_fn = nn.BCELoss()\n",
    "optimizer = optim.Adam(model.parameters(), lr=0.001)\n"
   ]
  },
  {
   "cell_type": "code",
   "execution_count": 14,
   "id": "c03b725c-1b12-43c4-a921-87efd4dfc28b",
   "metadata": {},
   "outputs": [
    {
     "name": "stdout",
     "output_type": "stream",
     "text": [
      "Finished epoch 0, latest_loss 0.5950642228126526\n",
      "Finished epoch 1, latest_loss 0.6018132567405701\n",
      "Finished epoch 2, latest_loss 0.5996410846710205\n",
      "Finished epoch 3, latest_loss 0.5919691324234009\n",
      "Finished epoch 4, latest_loss 0.5768992304801941\n",
      "Finished epoch 5, latest_loss 0.5664495229721069\n",
      "Finished epoch 6, latest_loss 0.5529233813285828\n",
      "Finished epoch 7, latest_loss 0.5354833602905273\n",
      "Finished epoch 8, latest_loss 0.5277034640312195\n",
      "Finished epoch 9, latest_loss 0.5294548273086548\n",
      "Finished epoch 10, latest_loss 0.5305236577987671\n",
      "Finished epoch 11, latest_loss 0.5218462944030762\n",
      "Finished epoch 12, latest_loss 0.5254954099655151\n",
      "Finished epoch 13, latest_loss 0.5267531275749207\n",
      "Finished epoch 14, latest_loss 0.5229523181915283\n",
      "Finished epoch 15, latest_loss 0.5279484987258911\n",
      "Finished epoch 16, latest_loss 0.5326329469680786\n",
      "Finished epoch 17, latest_loss 0.5319234728813171\n",
      "Finished epoch 18, latest_loss 0.5385136604309082\n",
      "Finished epoch 19, latest_loss 0.5313807725906372\n",
      "Finished epoch 20, latest_loss 0.5323742628097534\n",
      "Finished epoch 21, latest_loss 0.5338519215583801\n",
      "Finished epoch 22, latest_loss 0.5319259166717529\n",
      "Finished epoch 23, latest_loss 0.5256689786911011\n",
      "Finished epoch 24, latest_loss 0.5249664187431335\n",
      "Finished epoch 25, latest_loss 0.5242213010787964\n",
      "Finished epoch 26, latest_loss 0.5289052128791809\n",
      "Finished epoch 27, latest_loss 0.5243002772331238\n",
      "Finished epoch 28, latest_loss 0.5256749391555786\n",
      "Finished epoch 29, latest_loss 0.5216956734657288\n",
      "Finished epoch 30, latest_loss 0.5222930312156677\n",
      "Finished epoch 31, latest_loss 0.5174582004547119\n",
      "Finished epoch 32, latest_loss 0.5147827863693237\n",
      "Finished epoch 33, latest_loss 0.5188475251197815\n",
      "Finished epoch 34, latest_loss 0.5200932621955872\n",
      "Finished epoch 35, latest_loss 0.5142859220504761\n",
      "Finished epoch 36, latest_loss 0.5115768909454346\n",
      "Finished epoch 37, latest_loss 0.5077422261238098\n",
      "Finished epoch 38, latest_loss 0.5131713151931763\n",
      "Finished epoch 39, latest_loss 0.5131091475486755\n",
      "Finished epoch 40, latest_loss 0.4972500205039978\n",
      "Finished epoch 41, latest_loss 0.4928840100765228\n",
      "Finished epoch 42, latest_loss 0.49061813950538635\n",
      "Finished epoch 43, latest_loss 0.48814159631729126\n",
      "Finished epoch 44, latest_loss 0.4814435839653015\n",
      "Finished epoch 45, latest_loss 0.48946675658226013\n",
      "Finished epoch 46, latest_loss 0.4823375642299652\n",
      "Finished epoch 47, latest_loss 0.4795980155467987\n",
      "Finished epoch 48, latest_loss 0.47727885842323303\n",
      "Finished epoch 49, latest_loss 0.48326197266578674\n",
      "Finished epoch 50, latest_loss 0.47199398279190063\n",
      "Finished epoch 51, latest_loss 0.4704623520374298\n",
      "Finished epoch 52, latest_loss 0.47352397441864014\n",
      "Finished epoch 53, latest_loss 0.4672316908836365\n",
      "Finished epoch 54, latest_loss 0.46374303102493286\n",
      "Finished epoch 55, latest_loss 0.4684184491634369\n",
      "Finished epoch 56, latest_loss 0.4702596068382263\n",
      "Finished epoch 57, latest_loss 0.47923076152801514\n",
      "Finished epoch 58, latest_loss 0.4694775342941284\n",
      "Finished epoch 59, latest_loss 0.47536328434944153\n",
      "Finished epoch 60, latest_loss 0.47418248653411865\n",
      "Finished epoch 61, latest_loss 0.4738087058067322\n",
      "Finished epoch 62, latest_loss 0.4666198492050171\n",
      "Finished epoch 63, latest_loss 0.46906578540802\n",
      "Finished epoch 64, latest_loss 0.46496209502220154\n",
      "Finished epoch 65, latest_loss 0.46402859687805176\n",
      "Finished epoch 66, latest_loss 0.4645165503025055\n",
      "Finished epoch 67, latest_loss 0.4625753164291382\n",
      "Finished epoch 68, latest_loss 0.4696137309074402\n",
      "Finished epoch 69, latest_loss 0.46078795194625854\n",
      "Finished epoch 70, latest_loss 0.4616243839263916\n",
      "Finished epoch 71, latest_loss 0.4714452922344208\n",
      "Finished epoch 72, latest_loss 0.46666011214256287\n",
      "Finished epoch 73, latest_loss 0.4520086944103241\n",
      "Finished epoch 74, latest_loss 0.4656497836112976\n",
      "Finished epoch 75, latest_loss 0.4656861126422882\n",
      "Finished epoch 76, latest_loss 0.46087780594825745\n",
      "Finished epoch 77, latest_loss 0.4644295573234558\n",
      "Finished epoch 78, latest_loss 0.46324944496154785\n",
      "Finished epoch 79, latest_loss 0.46112436056137085\n",
      "Finished epoch 80, latest_loss 0.4626116156578064\n",
      "Finished epoch 81, latest_loss 0.4606543183326721\n",
      "Finished epoch 82, latest_loss 0.4613860249519348\n",
      "Finished epoch 83, latest_loss 0.45957231521606445\n",
      "Finished epoch 84, latest_loss 0.45735612511634827\n",
      "Finished epoch 85, latest_loss 0.4492087960243225\n",
      "Finished epoch 86, latest_loss 0.4550601541996002\n",
      "Finished epoch 87, latest_loss 0.453029602766037\n",
      "Finished epoch 88, latest_loss 0.4472864270210266\n",
      "Finished epoch 89, latest_loss 0.45310142636299133\n",
      "Finished epoch 90, latest_loss 0.4524293541908264\n",
      "Finished epoch 91, latest_loss 0.4508287310600281\n",
      "Finished epoch 92, latest_loss 0.44958823919296265\n",
      "Finished epoch 93, latest_loss 0.4420621693134308\n",
      "Finished epoch 94, latest_loss 0.44900086522102356\n",
      "Finished epoch 95, latest_loss 0.4396379888057709\n",
      "Finished epoch 96, latest_loss 0.44426652789115906\n",
      "Finished epoch 97, latest_loss 0.4391508102416992\n",
      "Finished epoch 98, latest_loss 0.44326508045196533\n",
      "Finished epoch 99, latest_loss 0.43621140718460083\n"
     ]
    }
   ],
   "source": [
    "n_epochs = 100\n",
    "batch_size = 10\n",
    "for epoch in range(n_epochs):\n",
    "    for i in range(0,len(X),batch_size):\n",
    "        Xbatch = X[i:i+batch_size]\n",
    "        y_pred = model(Xbatch)\n",
    "        ybatch = y[i:i+batch_size]\n",
    "        loss = loss_fn(y_pred, ybatch)\n",
    "        optimizer.zero_grad()\n",
    "        loss.backward()\n",
    "        optimizer.step()\n",
    "    print(f'Finished epoch {epoch}, latest_loss {loss}')   "
   ]
  },
  {
   "cell_type": "code",
   "execution_count": 22,
   "id": "00e7a1b6-73ce-4db9-bc77-0d1b2f190197",
   "metadata": {},
   "outputs": [
    {
     "name": "stdout",
     "output_type": "stream",
     "text": [
      "accuracy0.7486979365348816\n"
     ]
    }
   ],
   "source": [
    "with torch.no_grad():\n",
    "    y_pred = model(X)\n",
    "accuracy = (y_pred.round() == y).float().mean()\n",
    "print(f\"accuracy{accuracy}\")"
   ]
  },
  {
   "cell_type": "code",
   "execution_count": 23,
   "id": "91f37316-2e5e-4d53-ac23-97c3bbf8dec3",
   "metadata": {},
   "outputs": [],
   "source": [
    "predictions = model(X)\n",
    "rouded = predictions.round()"
   ]
  },
  {
   "cell_type": "code",
   "execution_count": 24,
   "id": "57eb9b32-cfc5-4fc4-bbe2-170a340cd4c6",
   "metadata": {},
   "outputs": [],
   "source": [
    "predictions = (model(X)>0.5).int()\n"
   ]
  },
  {
   "cell_type": "code",
   "execution_count": 26,
   "id": "d865813e-08c7-49f4-884d-8b64b802d7e4",
   "metadata": {},
   "outputs": [
    {
     "name": "stdout",
     "output_type": "stream",
     "text": [
      "[6.0, 148.0, 72.0, 35.0, 0.0, 33.599998474121094, 0.6269999742507935, 50.0] => 1 (expected 1)\n",
      "[1.0, 85.0, 66.0, 29.0, 0.0, 26.600000381469727, 0.35100001096725464, 31.0] => 0 (expected 0)\n",
      "[8.0, 183.0, 64.0, 0.0, 0.0, 23.299999237060547, 0.671999990940094, 32.0] => 1 (expected 1)\n",
      "[1.0, 89.0, 66.0, 23.0, 94.0, 28.100000381469727, 0.16699999570846558, 21.0] => 0 (expected 0)\n",
      "[0.0, 137.0, 40.0, 35.0, 168.0, 43.099998474121094, 2.2880001068115234, 33.0] => 1 (expected 1)\n"
     ]
    }
   ],
   "source": [
    "for i in range(5):\n",
    "    print('%s => %d (expected %d)' %(X[i].tolist(),predictions[i],y[i]))"
   ]
  },
  {
   "cell_type": "code",
   "execution_count": null,
   "id": "6f1892b5-b6d2-472e-809e-b05f52176bb7",
   "metadata": {},
   "outputs": [],
   "source": []
  }
 ],
 "metadata": {
  "kernelspec": {
   "display_name": "Python 3 (ipykernel)",
   "language": "python",
   "name": "python3"
  },
  "language_info": {
   "codemirror_mode": {
    "name": "ipython",
    "version": 3
   },
   "file_extension": ".py",
   "mimetype": "text/x-python",
   "name": "python",
   "nbconvert_exporter": "python",
   "pygments_lexer": "ipython3",
   "version": "3.10.10"
  }
 },
 "nbformat": 4,
 "nbformat_minor": 5
}
