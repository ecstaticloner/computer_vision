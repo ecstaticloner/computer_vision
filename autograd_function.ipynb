{
 "cells": [
  {
   "cell_type": "code",
   "execution_count": 1,
   "id": "e94709d0-d999-4200-a451-1500e22e7e7b",
   "metadata": {},
   "outputs": [],
   "source": [
    "# autograd\n"
   ]
  },
  {
   "cell_type": "code",
   "execution_count": 2,
   "id": "e773a5b1-d8d7-47d5-a172-ab5bd5ca6b5e",
   "metadata": {},
   "outputs": [
    {
     "name": "stdout",
     "output_type": "stream",
     "text": [
      "tensor([0.4299, 0.9723, 0.3200], requires_grad=True)\n"
     ]
    }
   ],
   "source": [
    "import torch\n",
    "x = torch.rand(3, requires_grad=True)\n",
    "print(x)"
   ]
  },
  {
   "cell_type": "code",
   "execution_count": 3,
   "id": "763bda06-70ac-4081-8636-73e8ad1c3121",
   "metadata": {},
   "outputs": [],
   "source": [
    "y = x+3"
   ]
  },
  {
   "cell_type": "code",
   "execution_count": 4,
   "id": "f8c27837-7f71-4559-9df4-eaa8ddbdd9e1",
   "metadata": {},
   "outputs": [
    {
     "name": "stdout",
     "output_type": "stream",
     "text": [
      "tensor([3.4299, 3.9723, 3.3200], grad_fn=<AddBackward0>)\n"
     ]
    }
   ],
   "source": [
    "print(y)"
   ]
  },
  {
   "cell_type": "code",
   "execution_count": 5,
   "id": "da473924-9dc5-4d33-91c9-4c99a7de4933",
   "metadata": {},
   "outputs": [
    {
     "name": "stdout",
     "output_type": "stream",
     "text": [
      "tensor(25.7105, grad_fn=<MeanBackward0>)\n"
     ]
    }
   ],
   "source": [
    "z = y*y*2\n",
    "z = z.mean() # produce the mean values of the z vector.\n",
    "print(z)\n"
   ]
  },
  {
   "cell_type": "code",
   "execution_count": 11,
   "id": "9b98c4e7-ea0f-44d1-ab1f-a522c0f2f1c5",
   "metadata": {},
   "outputs": [
    {
     "name": "stdout",
     "output_type": "stream",
     "text": [
      "tensor([4.5732, 5.2964, 4.4267])\n",
      "None\n"
     ]
    },
    {
     "name": "stderr",
     "output_type": "stream",
     "text": [
      "/tmp/ipykernel_46713/539906059.py:3: UserWarning: The .grad attribute of a Tensor that is not a leaf Tensor is being accessed. Its .grad attribute won't be populated during autograd.backward(). If you indeed want the .grad field to be populated for a non-leaf Tensor, use .retain_grad() on the non-leaf Tensor. If you access the non-leaf Tensor by mistake, make sure you access the leaf Tensor instead. See github.com/pytorch/pytorch/pull/30531 for more informations. (Triggered internally at aten/src/ATen/core/TensorBody.h:489.)\n",
      "  print(z.grad)\n"
     ]
    }
   ],
   "source": [
    "#z.backward()\n",
    "print(x.grad) # where the gradients has been stored. A jacobian matrix is formed and it is multiplied with\n",
    "              # the gradient matrix formed. \n",
    "\n"
   ]
  },
  {
   "cell_type": "code",
   "execution_count": 17,
   "id": "60613b58-015e-408d-9b6e-8adc27f6a6d0",
   "metadata": {},
   "outputs": [
    {
     "name": "stdout",
     "output_type": "stream",
     "text": [
      "tensor([3., 3., 3., 3.])\n",
      "tensor([3., 3., 3., 3.])\n",
      "tensor([3., 3., 3., 3.])\n"
     ]
    }
   ],
   "source": [
    "weight = torch.ones(4, requires_grad=True)\n",
    "for epoch in range(3):\n",
    "    model_output =(weight*3).sum()\n",
    "    model_output.backward()\n",
    "    print(weight.grad)\n",
    "    weight.grad.zero_() # erases the gradient values stored in weight."
   ]
  },
  {
   "cell_type": "code",
   "execution_count": null,
   "id": "47645bf9-9e5f-48b7-931f-1a776e485528",
   "metadata": {},
   "outputs": [],
   "source": []
  }
 ],
 "metadata": {
  "kernelspec": {
   "display_name": "Python 3 (ipykernel)",
   "language": "python",
   "name": "python3"
  },
  "language_info": {
   "codemirror_mode": {
    "name": "ipython",
    "version": 3
   },
   "file_extension": ".py",
   "mimetype": "text/x-python",
   "name": "python",
   "nbconvert_exporter": "python",
   "pygments_lexer": "ipython3",
   "version": "3.10.10"
  }
 },
 "nbformat": 4,
 "nbformat_minor": 5
}
